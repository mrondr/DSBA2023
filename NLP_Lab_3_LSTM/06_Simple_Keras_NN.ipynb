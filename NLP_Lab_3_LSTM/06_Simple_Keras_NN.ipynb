{
 "cells": [
  {
   "cell_type": "markdown",
   "metadata": {},
   "source": [
    "# Create a simple NN with Keras"
   ]
  },
  {
   "cell_type": "code",
   "execution_count": 7,
   "metadata": {},
   "outputs": [
    {
     "name": "stdout",
     "output_type": "stream",
     "text": [
      "Collecting package metadata (current_repodata.json): done\n",
      "Solving environment: failed with initial frozen solve. Retrying with flexible solve.\n",
      "Solving environment: failed with repodata from current_repodata.json, will retry with next repodata source.\n",
      "Collecting package metadata (repodata.json): done\n",
      "Solving environment: done\n",
      "\n",
      "\n",
      "==> WARNING: A newer version of conda exists. <==\n",
      "  current version: 22.9.0\n",
      "  latest version: 23.1.0\n",
      "\n",
      "Please update conda by running\n",
      "\n",
      "    $ conda update -n base -c conda-forge conda\n",
      "\n",
      "\n",
      "\n",
      "## Package Plan ##\n",
      "\n",
      "  environment location: /home/door/anaconda3/envs/gpu-env\n",
      "\n",
      "  added / updated specs:\n",
      "    - matplotlib\n",
      "    - numpy\n",
      "    - pandas\n",
      "    - seaborn\n",
      "\n",
      "\n",
      "The following packages will be downloaded:\n",
      "\n",
      "    package                    |            build\n",
      "    ---------------------------|-----------------\n",
      "    matplotlib-3.3.2           |                0           6 KB  conda-forge\n",
      "    matplotlib-base-3.3.2      |   py39h98787fa_1         6.7 MB  conda-forge\n",
      "    numpy-1.19.5               |   py39hd249d9e_3         5.3 MB  conda-forge\n",
      "    patsy-0.5.3                |     pyhd8ed1ab_0         189 KB  conda-forge\n",
      "    seaborn-0.12.2             |       hd8ed1ab_0           6 KB  conda-forge\n",
      "    seaborn-base-0.12.2        |     pyhd8ed1ab_0         226 KB  conda-forge\n",
      "    statsmodels-0.13.2         |   py39hce5d2b2_0        11.4 MB  conda-forge\n",
      "    ------------------------------------------------------------\n",
      "                                           Total:        23.9 MB\n",
      "\n",
      "The following NEW packages will be INSTALLED:\n",
      "\n",
      "  cycler             conda-forge/noarch::cycler-0.11.0-pyhd8ed1ab_0 None\n",
      "  kiwisolver         conda-forge/linux-64::kiwisolver-1.4.2-py39hf939315_1 None\n",
      "  matplotlib         conda-forge/linux-64::matplotlib-3.3.2-0 None\n",
      "  matplotlib-base    conda-forge/linux-64::matplotlib-base-3.3.2-py39h98787fa_1 None\n",
      "  pandas             conda-forge/linux-64::pandas-1.4.2-py39h1832856_1 None\n",
      "  patsy              conda-forge/noarch::patsy-0.5.3-pyhd8ed1ab_0 None\n",
      "  pytz               conda-forge/noarch::pytz-2022.7.1-pyhd8ed1ab_0 None\n",
      "  seaborn            conda-forge/noarch::seaborn-0.12.2-hd8ed1ab_0 None\n",
      "  seaborn-base       conda-forge/noarch::seaborn-base-0.12.2-pyhd8ed1ab_0 None\n",
      "  statsmodels        conda-forge/linux-64::statsmodels-0.13.2-py39hce5d2b2_0 None\n",
      "\n",
      "The following packages will be UPDATED:\n",
      "\n",
      "  ca-certificates                      2021.10.8-ha878542_0 --> 2022.12.7-ha878542_0 None\n",
      "  certifi            conda-forge/linux-64::certifi-2021.10~ --> conda-forge/noarch::certifi-2022.12.7-pyhd8ed1ab_0 None\n",
      "  numpy                               1.19.5-py39hdbf815f_2 --> 1.19.5-py39hd249d9e_3 None\n",
      "  openssl                                 1.1.1l-h7f98852_0 --> 1.1.1o-h166bdaf_0 None\n",
      "\n",
      "\n",
      "\n",
      "Downloading and Extracting Packages\n",
      "matplotlib-base-3.3. | 6.7 MB    | ##################################### | 100% \n",
      "seaborn-0.12.2       | 6 KB      | ##################################### | 100% \n",
      "patsy-0.5.3          | 189 KB    | ##################################### | 100% \n",
      "statsmodels-0.13.2   | 11.4 MB   | ##################################### | 100% \n",
      "numpy-1.19.5         | 5.3 MB    | ##################################### | 100% \n",
      "seaborn-base-0.12.2  | 226 KB    | ##################################### | 100% \n",
      "matplotlib-3.3.2     | 6 KB      | ##################################### | 100% \n",
      "Preparing transaction: done\n",
      "Verifying transaction: done\n",
      "Executing transaction: done\n",
      "Retrieving notices: ...working... done\n"
     ]
    }
   ],
   "source": [
    "import sys\n",
    "!conda install --yes --prefix {sys.prefix} pandas seaborn matplotlib numpy"
   ]
  },
  {
   "cell_type": "code",
   "execution_count": 19,
   "metadata": {
    "colab": {
     "base_uri": "https://localhost:8080/",
     "height": 197
    },
    "colab_type": "code",
    "executionInfo": {
     "elapsed": 843,
     "status": "ok",
     "timestamp": 1571065640210,
     "user": {
      "displayName": "ai school",
      "photoUrl": "",
      "userId": "08125262134229048618"
     },
     "user_tz": -120
    },
    "id": "kXsT2UpUzOx0",
    "outputId": "1aa9d367-169d-4f1a-d9a3-d70b7e30f2d1"
   },
   "outputs": [
    {
     "data": {
      "text/html": [
       "<div>\n",
       "<style scoped>\n",
       "    .dataframe tbody tr th:only-of-type {\n",
       "        vertical-align: middle;\n",
       "    }\n",
       "\n",
       "    .dataframe tbody tr th {\n",
       "        vertical-align: top;\n",
       "    }\n",
       "\n",
       "    .dataframe thead th {\n",
       "        text-align: right;\n",
       "    }\n",
       "</style>\n",
       "<table border=\"1\" class=\"dataframe\">\n",
       "  <thead>\n",
       "    <tr style=\"text-align: right;\">\n",
       "      <th></th>\n",
       "      <th>timespreg</th>\n",
       "      <th>gluctol</th>\n",
       "      <th>diaspb</th>\n",
       "      <th>triceps</th>\n",
       "      <th>insulin</th>\n",
       "      <th>massindex</th>\n",
       "      <th>pedigree</th>\n",
       "      <th>age</th>\n",
       "      <th>target</th>\n",
       "    </tr>\n",
       "  </thead>\n",
       "  <tbody>\n",
       "    <tr>\n",
       "      <th>0</th>\n",
       "      <td>6</td>\n",
       "      <td>148</td>\n",
       "      <td>72</td>\n",
       "      <td>35</td>\n",
       "      <td>0</td>\n",
       "      <td>33.6</td>\n",
       "      <td>0.627</td>\n",
       "      <td>50</td>\n",
       "      <td>1</td>\n",
       "    </tr>\n",
       "    <tr>\n",
       "      <th>1</th>\n",
       "      <td>1</td>\n",
       "      <td>85</td>\n",
       "      <td>66</td>\n",
       "      <td>29</td>\n",
       "      <td>0</td>\n",
       "      <td>26.6</td>\n",
       "      <td>0.351</td>\n",
       "      <td>31</td>\n",
       "      <td>0</td>\n",
       "    </tr>\n",
       "    <tr>\n",
       "      <th>2</th>\n",
       "      <td>8</td>\n",
       "      <td>183</td>\n",
       "      <td>64</td>\n",
       "      <td>0</td>\n",
       "      <td>0</td>\n",
       "      <td>23.3</td>\n",
       "      <td>0.672</td>\n",
       "      <td>32</td>\n",
       "      <td>1</td>\n",
       "    </tr>\n",
       "    <tr>\n",
       "      <th>3</th>\n",
       "      <td>1</td>\n",
       "      <td>89</td>\n",
       "      <td>66</td>\n",
       "      <td>23</td>\n",
       "      <td>94</td>\n",
       "      <td>28.1</td>\n",
       "      <td>0.167</td>\n",
       "      <td>21</td>\n",
       "      <td>0</td>\n",
       "    </tr>\n",
       "    <tr>\n",
       "      <th>4</th>\n",
       "      <td>0</td>\n",
       "      <td>137</td>\n",
       "      <td>40</td>\n",
       "      <td>35</td>\n",
       "      <td>168</td>\n",
       "      <td>43.1</td>\n",
       "      <td>2.288</td>\n",
       "      <td>33</td>\n",
       "      <td>1</td>\n",
       "    </tr>\n",
       "  </tbody>\n",
       "</table>\n",
       "</div>"
      ],
      "text/plain": [
       "   timespreg  gluctol  diaspb  triceps  insulin  massindex  pedigree  age  \\\n",
       "0          6      148      72       35        0       33.6     0.627   50   \n",
       "1          1       85      66       29        0       26.6     0.351   31   \n",
       "2          8      183      64        0        0       23.3     0.672   32   \n",
       "3          1       89      66       23       94       28.1     0.167   21   \n",
       "4          0      137      40       35      168       43.1     2.288   33   \n",
       "\n",
       "   target  \n",
       "0       1  \n",
       "1       0  \n",
       "2       1  \n",
       "3       0  \n",
       "4       1  "
      ]
     },
     "execution_count": 19,
     "metadata": {},
     "output_type": "execute_result"
    }
   ],
   "source": [
    "import pandas as pd\n",
    "df = pd.read_csv('diabetes.csv')\n",
    "\n",
    "df.head()"
   ]
  },
  {
   "cell_type": "code",
   "execution_count": 20,
   "metadata": {
    "colab": {
     "base_uri": "https://localhost:8080/",
     "height": 67
    },
    "colab_type": "code",
    "executionInfo": {
     "elapsed": 1449,
     "status": "ok",
     "timestamp": 1571065640841,
     "user": {
      "displayName": "ai school",
      "photoUrl": "",
      "userId": "08125262134229048618"
     },
     "user_tz": -120
    },
    "id": "5Vo37xSHzOx5",
    "outputId": "53be1fbe-7af5-4849-c110-efc2ec66448e"
   },
   "outputs": [
    {
     "data": {
      "text/plain": [
       "Index(['timespreg', 'gluctol', 'diaspb', 'triceps', 'insulin', 'massindex',\n",
       "       'pedigree', 'age', 'target'],\n",
       "      dtype='object')"
      ]
     },
     "execution_count": 20,
     "metadata": {},
     "output_type": "execute_result"
    }
   ],
   "source": [
    "df.columns"
   ]
  },
  {
   "cell_type": "code",
   "execution_count": 21,
   "metadata": {
    "colab": {
     "base_uri": "https://localhost:8080/",
     "height": 83
    },
    "colab_type": "code",
    "executionInfo": {
     "elapsed": 1390,
     "status": "ok",
     "timestamp": 1571065640843,
     "user": {
      "displayName": "ai school",
      "photoUrl": "",
      "userId": "08125262134229048618"
     },
     "user_tz": -120
    },
    "id": "9pb8Z-NVzOyC",
    "outputId": "dbe39823-e13b-4099-a075-7bb36d257818"
   },
   "outputs": [
    {
     "name": "stdout",
     "output_type": "stream",
     "text": [
      "target\n",
      "0    500\n",
      "1    268\n",
      "dtype: int64\n"
     ]
    }
   ],
   "source": [
    "#Print class frequencies through pandas \n",
    "print(df.groupby('target').size())"
   ]
  },
  {
   "cell_type": "code",
   "execution_count": 22,
   "metadata": {
    "colab": {
     "base_uri": "https://localhost:8080/",
     "height": 295
    },
    "colab_type": "code",
    "executionInfo": {
     "elapsed": 1805,
     "status": "ok",
     "timestamp": 1571065641280,
     "user": {
      "displayName": "ai school",
      "photoUrl": "",
      "userId": "08125262134229048618"
     },
     "user_tz": -120
    },
    "id": "_lpEzGEVzOyF",
    "outputId": "9320a723-597d-46ac-d0c8-84e981038f8e"
   },
   "outputs": [
    {
     "data": {
      "image/png": "[encoded data removed]",
      "text/plain": [
       "<Figure size 432x288 with 1 Axes>"
      ]
     },
     "metadata": {
      "needs_background": "light"
     },
     "output_type": "display_data"
    }
   ],
   "source": [
    "#Bar plot for the target variable\n",
    "%matplotlib inline\n",
    "import seaborn as sns #https://seaborn.pydata.org/\n",
    "import matplotlib.pyplot as plt #https://matplotlib.org/\n",
    "\n",
    "sns.countplot(x=\"target\", data=df)\n",
    "plt.title(\"Diabetes Dataset\")\n",
    "plt.xlabel(\"Classes\")\n",
    "plt.ylabel(\"Counts\")\n",
    "plt.show()"
   ]
  },
  {
   "cell_type": "code",
   "execution_count": 23,
   "metadata": {
    "colab": {
     "base_uri": "https://localhost:8080/",
     "height": 666
    },
    "colab_type": "code",
    "executionInfo": {
     "elapsed": 3277,
     "status": "ok",
     "timestamp": 1571065642775,
     "user": {
      "displayName": "ai school",
      "photoUrl": "",
      "userId": "08125262134229048618"
     },
     "user_tz": -120
    },
    "id": "aaXMXa1dzOyK",
    "outputId": "2557883b-9c6b-4bad-f826-40eb300002f8"
   },
   "outputs": [
    {
     "data": {
      "text/plain": [
       "array([[<AxesSubplot:title={'center':'timespreg'}>,\n",
       "        <AxesSubplot:title={'center':'gluctol'}>,\n",
       "        <AxesSubplot:title={'center':'diaspb'}>],\n",
       "       [<AxesSubplot:title={'center':'triceps'}>,\n",
       "        <AxesSubplot:title={'center':'insulin'}>,\n",
       "        <AxesSubplot:title={'center':'massindex'}>],\n",
       "       [<AxesSubplot:title={'center':'pedigree'}>,\n",
       "        <AxesSubplot:title={'center':'age'}>,\n",
       "        <AxesSubplot:title={'center':'target'}>]], dtype=object)"
      ]
     },
     "execution_count": 23,
     "metadata": {},
     "output_type": "execute_result"
    },
    {
     "data": {
      "image/png": "[encoded data removed]",
      "text/plain": [
       "<Figure size 720x576 with 9 Axes>"
      ]
     },
     "metadata": {
      "needs_background": "light"
     },
     "output_type": "display_data"
    }
   ],
   "source": [
    "df.hist(figsize=(10,8))"
   ]
  },
  {
   "cell_type": "code",
   "execution_count": 24,
   "metadata": {
    "colab": {
     "base_uri": "https://localhost:8080/",
     "height": 33
    },
    "colab_type": "code",
    "executionInfo": {
     "elapsed": 3267,
     "status": "ok",
     "timestamp": 1571065642776,
     "user": {
      "displayName": "ai school",
      "photoUrl": "",
      "userId": "08125262134229048618"
     },
     "user_tz": -120
    },
    "id": "98YzyRH1zOyN",
    "outputId": "03ade465-d41b-4116-a29f-8c090753e8a1"
   },
   "outputs": [
    {
     "name": "stdout",
     "output_type": "stream",
     "text": [
      "(768, 8)\n"
     ]
    }
   ],
   "source": [
    "# slicing the dataframe EXPL_VARs/TARGET\n",
    "import numpy as np\n",
    "df = df.values\n",
    "x=df[:,0:-1] \n",
    "y=df[:,-1]\n",
    "\n",
    "print(x.shape)"
   ]
  },
  {
   "cell_type": "code",
   "execution_count": 25,
   "metadata": {
    "colab": {
     "base_uri": "https://localhost:8080/",
     "height": 33
    },
    "colab_type": "code",
    "executionInfo": {
     "elapsed": 3258,
     "status": "ok",
     "timestamp": 1571065642777,
     "user": {
      "displayName": "ai school",
      "photoUrl": "",
      "userId": "08125262134229048618"
     },
     "user_tz": -120
    },
    "id": "P0nOG-9uzOyQ",
    "outputId": "5267c8d7-ae11-4580-c052-531df5944f38"
   },
   "outputs": [
    {
     "name": "stdout",
     "output_type": "stream",
     "text": [
      "(768,)\n"
     ]
    }
   ],
   "source": [
    "print(y.shape)"
   ]
  },
  {
   "cell_type": "code",
   "execution_count": 26,
   "metadata": {
    "colab": {
     "base_uri": "https://localhost:8080/",
     "height": 50
    },
    "colab_type": "code",
    "executionInfo": {
     "elapsed": 3396,
     "status": "ok",
     "timestamp": 1571065642926,
     "user": {
      "displayName": "ai school",
      "photoUrl": "",
      "userId": "08125262134229048618"
     },
     "user_tz": -120
    },
    "id": "Led2n3hszOyU",
    "outputId": "26d7a386-cfa5-47cf-8873-7fcf6b8d5cf0"
   },
   "outputs": [
    {
     "name": "stdout",
     "output_type": "stream",
     "text": [
      "(537, 8)\n",
      "(231, 8)\n"
     ]
    }
   ],
   "source": [
    "from sklearn.model_selection import train_test_split\n",
    "\n",
    "# Split data into training and test sets\n",
    "x_train, x_test, y_train, y_test = train_test_split(x, y, \n",
    "                                                    test_size =0.3, #by default is 75%-25%\n",
    "                                                    #shuffle is set True by default,\n",
    "                                                    stratify=y,\n",
    "                                                    random_state= 123) #fix random seed for replicability\n",
    "print(x_train.shape)\n",
    "print(x_test.shape)"
   ]
  },
  {
   "cell_type": "markdown",
   "metadata": {
    "colab_type": "text",
    "id": "Uzbc7RWVzOyX"
   },
   "source": [
    "## Create a NN model with Keras"
   ]
  },
  {
   "cell_type": "code",
   "execution_count": 28,
   "metadata": {
    "colab": {
     "base_uri": "https://localhost:8080/",
     "height": 253
    },
    "colab_type": "code",
    "executionInfo": {
     "elapsed": 4923,
     "status": "ok",
     "timestamp": 1571065644466,
     "user": {
      "displayName": "ai school",
      "photoUrl": "",
      "userId": "08125262134229048618"
     },
     "user_tz": -120
    },
    "id": "ZQ4PxlyRzOyY",
    "outputId": "bbb6bc25-784a-4b21-f0fc-0f71eaadb87a",
    "scrolled": false
   },
   "outputs": [],
   "source": [
    "from keras.models import Sequential\n",
    "from keras.layers import Dense, Dropout\n",
    "from keras import optimizers\n",
    "\n",
    "np.random.seed(123)\n",
    "\n",
    "model = Sequential()\n",
    "model.add(Dense(10, input_dim=8, activation='relu'))\n",
    "model.add(Dropout(0.5))\n",
    "model.add(Dense(5, activation='relu'))\n",
    "model.add(Dense(1, activation='sigmoid'))"
   ]
  },
  {
   "cell_type": "markdown",
   "metadata": {
    "colab_type": "text",
    "id": "BFR0o0nnzOyb"
   },
   "source": [
    "## Train the model and print a summary representation of the model"
   ]
  },
  {
   "cell_type": "code",
   "execution_count": 29,
   "metadata": {
    "colab": {
     "base_uri": "https://localhost:8080/",
     "height": 403
    },
    "colab_type": "code",
    "executionInfo": {
     "elapsed": 4912,
     "status": "ok",
     "timestamp": 1571065644467,
     "user": {
      "displayName": "ai school",
      "photoUrl": "",
      "userId": "08125262134229048618"
     },
     "user_tz": -120
    },
    "id": "5-ocmZKgzOyc",
    "outputId": "252b9b3c-598a-4096-f0fd-78ba35662d2d"
   },
   "outputs": [
    {
     "name": "stdout",
     "output_type": "stream",
     "text": [
      "Model: \"sequential_1\"\n",
      "_________________________________________________________________\n",
      "Layer (type)                 Output Shape              Param #   \n",
      "=================================================================\n",
      "dense_3 (Dense)              (None, 10)                90        \n",
      "_________________________________________________________________\n",
      "dropout_1 (Dropout)          (None, 10)                0         \n",
      "_________________________________________________________________\n",
      "dense_4 (Dense)              (None, 5)                 55        \n",
      "_________________________________________________________________\n",
      "dense_5 (Dense)              (None, 1)                 6         \n",
      "=================================================================\n",
      "Total params: 151\n",
      "Trainable params: 151\n",
      "Non-trainable params: 0\n",
      "_________________________________________________________________\n",
      "None\n"
     ]
    }
   ],
   "source": [
    "model.compile(loss='binary_crossentropy',metrics=['accuracy'])\n",
    "\n",
    "print(model.summary())"
   ]
  },
  {
   "cell_type": "markdown",
   "metadata": {
    "colab_type": "text",
    "id": "9kXdqu0DzOyf"
   },
   "source": [
    "# Fit the model"
   ]
  },
  {
   "cell_type": "code",
   "execution_count": 30,
   "metadata": {
    "colab": {
     "base_uri": "https://localhost:8080/",
     "height": 1000
    },
    "colab_type": "code",
    "executionInfo": {
     "elapsed": 15007,
     "status": "ok",
     "timestamp": 1571065654581,
     "user": {
      "displayName": "ai school",
      "photoUrl": "",
      "userId": "08125262134229048618"
     },
     "user_tz": -120
    },
    "id": "QdFEKN0qzOyg",
    "outputId": "6ffacf29-63e7-467d-9a54-f502736c075e",
    "scrolled": true
   },
   "outputs": [
    {
     "name": "stderr",
     "output_type": "stream",
     "text": [
      "2023-03-14 18:33:24.538808: I tensorflow/compiler/mlir/mlir_graph_optimization_pass.cc:185] None of the MLIR Optimization Passes are enabled (registered 2)\n"
     ]
    },
    {
     "name": "stdout",
     "output_type": "stream",
     "text": [
      "Epoch 1/100\n",
      "14/14 [==============================] - 2s 14ms/step - loss: 8.8842 - accuracy: 0.4872 - val_loss: 5.1272 - val_accuracy: 0.3981\n",
      "Epoch 2/100\n",
      "14/14 [==============================] - 0s 5ms/step - loss: 7.4797 - accuracy: 0.4592 - val_loss: 3.6289 - val_accuracy: 0.3889\n",
      "Epoch 3/100\n",
      "14/14 [==============================] - 0s 5ms/step - loss: 5.4993 - accuracy: 0.5431 - val_loss: 2.4835 - val_accuracy: 0.3981\n",
      "Epoch 4/100\n",
      "14/14 [==============================] - 0s 4ms/step - loss: 5.1837 - accuracy: 0.5431 - val_loss: 2.1656 - val_accuracy: 0.3889\n",
      "Epoch 5/100\n",
      "14/14 [==============================] - 0s 5ms/step - loss: 4.4340 - accuracy: 0.5105 - val_loss: 1.8268 - val_accuracy: 0.3889\n",
      "Epoch 6/100\n",
      "14/14 [==============================] - 0s 5ms/step - loss: 3.7230 - accuracy: 0.5361 - val_loss: 1.7328 - val_accuracy: 0.3889\n",
      "Epoch 7/100\n",
      "14/14 [==============================] - 0s 4ms/step - loss: 3.3192 - accuracy: 0.5198 - val_loss: 1.4654 - val_accuracy: 0.3796\n",
      "Epoch 8/100\n",
      "14/14 [==============================] - 0s 5ms/step - loss: 2.5044 - accuracy: 0.5571 - val_loss: 1.1200 - val_accuracy: 0.3796\n",
      "Epoch 9/100\n",
      "14/14 [==============================] - 0s 5ms/step - loss: 2.3531 - accuracy: 0.5291 - val_loss: 1.2105 - val_accuracy: 0.3796\n",
      "Epoch 10/100\n",
      "14/14 [==============================] - 0s 4ms/step - loss: 2.3065 - accuracy: 0.5455 - val_loss: 1.4445 - val_accuracy: 0.3796\n",
      "Epoch 11/100\n",
      "14/14 [==============================] - 0s 6ms/step - loss: 1.9454 - accuracy: 0.5478 - val_loss: 1.1506 - val_accuracy: 0.3796\n",
      "Epoch 12/100\n",
      "14/14 [==============================] - 0s 5ms/step - loss: 1.6519 - accuracy: 0.5501 - val_loss: 1.1314 - val_accuracy: 0.3796\n",
      "Epoch 13/100\n",
      "14/14 [==============================] - 0s 5ms/step - loss: 1.4626 - accuracy: 0.5921 - val_loss: 1.1057 - val_accuracy: 0.3796\n",
      "Epoch 14/100\n",
      "14/14 [==============================] - 0s 5ms/step - loss: 1.2042 - accuracy: 0.5758 - val_loss: 0.9802 - val_accuracy: 0.3796\n",
      "Epoch 15/100\n",
      "14/14 [==============================] - 0s 4ms/step - loss: 1.3846 - accuracy: 0.5664 - val_loss: 1.0621 - val_accuracy: 0.3796\n",
      "Epoch 16/100\n",
      "14/14 [==============================] - 0s 4ms/step - loss: 1.1232 - accuracy: 0.6340 - val_loss: 1.0215 - val_accuracy: 0.3889\n",
      "Epoch 17/100\n",
      "14/14 [==============================] - 0s 4ms/step - loss: 1.0407 - accuracy: 0.5921 - val_loss: 0.8386 - val_accuracy: 0.4259\n",
      "Epoch 18/100\n",
      "14/14 [==============================] - 0s 4ms/step - loss: 1.1811 - accuracy: 0.6364 - val_loss: 0.8627 - val_accuracy: 0.4167\n",
      "Epoch 19/100\n",
      "14/14 [==============================] - 0s 3ms/step - loss: 0.9599 - accuracy: 0.5851 - val_loss: 0.9073 - val_accuracy: 0.3704\n",
      "Epoch 20/100\n",
      "14/14 [==============================] - 0s 4ms/step - loss: 0.8309 - accuracy: 0.6037 - val_loss: 0.8105 - val_accuracy: 0.3981\n",
      "Epoch 21/100\n",
      "14/14 [==============================] - 0s 4ms/step - loss: 0.8627 - accuracy: 0.5991 - val_loss: 0.7523 - val_accuracy: 0.4815\n",
      "Epoch 22/100\n",
      "14/14 [==============================] - 0s 4ms/step - loss: 0.7756 - accuracy: 0.6177 - val_loss: 0.7871 - val_accuracy: 0.4352\n",
      "Epoch 23/100\n",
      "14/14 [==============================] - 0s 4ms/step - loss: 0.7821 - accuracy: 0.6177 - val_loss: 0.7338 - val_accuracy: 0.5093\n",
      "Epoch 24/100\n",
      "14/14 [==============================] - 0s 4ms/step - loss: 0.7281 - accuracy: 0.6294 - val_loss: 0.7086 - val_accuracy: 0.5370\n",
      "Epoch 25/100\n",
      "14/14 [==============================] - 0s 6ms/step - loss: 0.7028 - accuracy: 0.6434 - val_loss: 0.7469 - val_accuracy: 0.5000\n",
      "Epoch 26/100\n",
      "14/14 [==============================] - 0s 5ms/step - loss: 0.6578 - accuracy: 0.6737 - val_loss: 0.7076 - val_accuracy: 0.5370\n",
      "Epoch 27/100\n",
      "14/14 [==============================] - 0s 4ms/step - loss: 0.6895 - accuracy: 0.6643 - val_loss: 0.7317 - val_accuracy: 0.5000\n",
      "Epoch 28/100\n",
      "14/14 [==============================] - 0s 4ms/step - loss: 0.6720 - accuracy: 0.6760 - val_loss: 0.7358 - val_accuracy: 0.4907\n",
      "Epoch 29/100\n",
      "14/14 [==============================] - 0s 4ms/step - loss: 0.6886 - accuracy: 0.6434 - val_loss: 0.6882 - val_accuracy: 0.5833\n",
      "Epoch 30/100\n",
      "14/14 [==============================] - 0s 4ms/step - loss: 0.6825 - accuracy: 0.6620 - val_loss: 0.6702 - val_accuracy: 0.6204\n",
      "Epoch 31/100\n",
      "14/14 [==============================] - 0s 5ms/step - loss: 0.6656 - accuracy: 0.6690 - val_loss: 0.6740 - val_accuracy: 0.6019\n",
      "Epoch 32/100\n",
      "14/14 [==============================] - 0s 4ms/step - loss: 0.6540 - accuracy: 0.6690 - val_loss: 0.6949 - val_accuracy: 0.5463\n",
      "Epoch 33/100\n",
      "14/14 [==============================] - 0s 4ms/step - loss: 0.6634 - accuracy: 0.6783 - val_loss: 0.6818 - val_accuracy: 0.5926\n",
      "Epoch 34/100\n",
      "14/14 [==============================] - 0s 4ms/step - loss: 0.6385 - accuracy: 0.6993 - val_loss: 0.6752 - val_accuracy: 0.6019\n",
      "Epoch 35/100\n",
      "14/14 [==============================] - 0s 5ms/step - loss: 0.6709 - accuracy: 0.6573 - val_loss: 0.6709 - val_accuracy: 0.6111\n",
      "Epoch 36/100\n",
      "14/14 [==============================] - 0s 6ms/step - loss: 0.6483 - accuracy: 0.6643 - val_loss: 0.6795 - val_accuracy: 0.5926\n",
      "Epoch 37/100\n",
      "14/14 [==============================] - 0s 4ms/step - loss: 0.6510 - accuracy: 0.6713 - val_loss: 0.6859 - val_accuracy: 0.5648\n",
      "Epoch 38/100\n",
      "14/14 [==============================] - 0s 4ms/step - loss: 0.6469 - accuracy: 0.6643 - val_loss: 0.6867 - val_accuracy: 0.5648\n",
      "Epoch 39/100\n",
      "14/14 [==============================] - 0s 5ms/step - loss: 0.6421 - accuracy: 0.6760 - val_loss: 0.6664 - val_accuracy: 0.6389\n",
      "Epoch 40/100\n",
      "14/14 [==============================] - 0s 5ms/step - loss: 0.6666 - accuracy: 0.6527 - val_loss: 0.6642 - val_accuracy: 0.6204\n",
      "Epoch 41/100\n",
      "14/14 [==============================] - 0s 5ms/step - loss: 0.6555 - accuracy: 0.6690 - val_loss: 0.6684 - val_accuracy: 0.6296\n",
      "Epoch 42/100\n",
      "14/14 [==============================] - 0s 5ms/step - loss: 0.6337 - accuracy: 0.6923 - val_loss: 0.6633 - val_accuracy: 0.6296\n",
      "Epoch 43/100\n",
      "14/14 [==============================] - 0s 5ms/step - loss: 0.6328 - accuracy: 0.6900 - val_loss: 0.6715 - val_accuracy: 0.6481\n",
      "Epoch 44/100\n",
      "14/14 [==============================] - 0s 4ms/step - loss: 0.6547 - accuracy: 0.6760 - val_loss: 0.6699 - val_accuracy: 0.6481\n",
      "Epoch 45/100\n",
      "14/14 [==============================] - 0s 5ms/step - loss: 0.6458 - accuracy: 0.6620 - val_loss: 0.6654 - val_accuracy: 0.6296\n",
      "Epoch 46/100\n",
      "14/14 [==============================] - 0s 5ms/step - loss: 0.6201 - accuracy: 0.6970 - val_loss: 0.6772 - val_accuracy: 0.5926\n",
      "Epoch 47/100\n",
      "14/14 [==============================] - 0s 5ms/step - loss: 0.6278 - accuracy: 0.6853 - val_loss: 0.6669 - val_accuracy: 0.6481\n",
      "Epoch 48/100\n",
      "14/14 [==============================] - 0s 5ms/step - loss: 0.6204 - accuracy: 0.6853 - val_loss: 0.6775 - val_accuracy: 0.5741\n",
      "Epoch 49/100\n",
      "14/14 [==============================] - 0s 4ms/step - loss: 0.6319 - accuracy: 0.6620 - val_loss: 0.6621 - val_accuracy: 0.6667\n",
      "Epoch 50/100\n",
      "14/14 [==============================] - 0s 4ms/step - loss: 0.6144 - accuracy: 0.6923 - val_loss: 0.6976 - val_accuracy: 0.5370\n",
      "Epoch 51/100\n",
      "14/14 [==============================] - 0s 4ms/step - loss: 0.6249 - accuracy: 0.6807 - val_loss: 0.6645 - val_accuracy: 0.6296\n",
      "Epoch 52/100\n",
      "14/14 [==============================] - 0s 5ms/step - loss: 0.6177 - accuracy: 0.7016 - val_loss: 0.6697 - val_accuracy: 0.6389\n",
      "Epoch 53/100\n",
      "14/14 [==============================] - 0s 5ms/step - loss: 0.6218 - accuracy: 0.6853 - val_loss: 0.6616 - val_accuracy: 0.6574\n",
      "Epoch 54/100\n",
      "14/14 [==============================] - 0s 4ms/step - loss: 0.6309 - accuracy: 0.6690 - val_loss: 0.6604 - val_accuracy: 0.6574\n",
      "Epoch 55/100\n",
      "14/14 [==============================] - 0s 5ms/step - loss: 0.6184 - accuracy: 0.6853 - val_loss: 0.6620 - val_accuracy: 0.6296\n",
      "Epoch 56/100\n",
      "14/14 [==============================] - 0s 4ms/step - loss: 0.6263 - accuracy: 0.6853 - val_loss: 0.6597 - val_accuracy: 0.6481\n",
      "Epoch 57/100\n",
      "14/14 [==============================] - 0s 4ms/step - loss: 0.6259 - accuracy: 0.6667 - val_loss: 0.6586 - val_accuracy: 0.6574\n",
      "Epoch 58/100\n",
      "14/14 [==============================] - 0s 5ms/step - loss: 0.6241 - accuracy: 0.6853 - val_loss: 0.6593 - val_accuracy: 0.6296\n",
      "Epoch 59/100\n",
      "14/14 [==============================] - 0s 5ms/step - loss: 0.5941 - accuracy: 0.7016 - val_loss: 0.6578 - val_accuracy: 0.6296\n",
      "Epoch 60/100\n",
      "14/14 [==============================] - 0s 5ms/step - loss: 0.6335 - accuracy: 0.6690 - val_loss: 0.6559 - val_accuracy: 0.6481\n",
      "Epoch 61/100\n",
      "14/14 [==============================] - 0s 4ms/step - loss: 0.6121 - accuracy: 0.6946 - val_loss: 0.6552 - val_accuracy: 0.6481\n",
      "Epoch 62/100\n",
      "14/14 [==============================] - 0s 4ms/step - loss: 0.6051 - accuracy: 0.7040 - val_loss: 0.6540 - val_accuracy: 0.6574\n",
      "Epoch 63/100\n",
      "14/14 [==============================] - 0s 4ms/step - loss: 0.5969 - accuracy: 0.6970 - val_loss: 0.6527 - val_accuracy: 0.6667\n",
      "Epoch 64/100\n",
      "14/14 [==============================] - 0s 4ms/step - loss: 0.6156 - accuracy: 0.6830 - val_loss: 0.6541 - val_accuracy: 0.6389\n",
      "Epoch 65/100\n",
      "14/14 [==============================] - 0s 5ms/step - loss: 0.5982 - accuracy: 0.7016 - val_loss: 0.6547 - val_accuracy: 0.6389\n",
      "Epoch 66/100\n",
      "14/14 [==============================] - 0s 4ms/step - loss: 0.6082 - accuracy: 0.7063 - val_loss: 0.6596 - val_accuracy: 0.6204\n",
      "Epoch 67/100\n",
      "14/14 [==============================] - 0s 5ms/step - loss: 0.6115 - accuracy: 0.7016 - val_loss: 0.6542 - val_accuracy: 0.6204\n",
      "Epoch 68/100\n",
      "14/14 [==============================] - 0s 4ms/step - loss: 0.6040 - accuracy: 0.7086 - val_loss: 0.6643 - val_accuracy: 0.6389\n",
      "Epoch 69/100\n",
      "14/14 [==============================] - 0s 5ms/step - loss: 0.6197 - accuracy: 0.6760 - val_loss: 0.6629 - val_accuracy: 0.6204\n",
      "Epoch 70/100\n",
      "14/14 [==============================] - 0s 4ms/step - loss: 0.6050 - accuracy: 0.7063 - val_loss: 0.6550 - val_accuracy: 0.6296\n",
      "Epoch 71/100\n",
      "14/14 [==============================] - 0s 5ms/step - loss: 0.5984 - accuracy: 0.7040 - val_loss: 0.6585 - val_accuracy: 0.6296\n",
      "Epoch 72/100\n",
      "14/14 [==============================] - 0s 4ms/step - loss: 0.6094 - accuracy: 0.6946 - val_loss: 0.6551 - val_accuracy: 0.6296\n",
      "Epoch 73/100\n",
      "14/14 [==============================] - 0s 4ms/step - loss: 0.5980 - accuracy: 0.7133 - val_loss: 0.6617 - val_accuracy: 0.6204\n",
      "Epoch 74/100\n",
      "14/14 [==============================] - 0s 5ms/step - loss: 0.6102 - accuracy: 0.6946 - val_loss: 0.6566 - val_accuracy: 0.6204\n",
      "Epoch 75/100\n",
      "14/14 [==============================] - 0s 4ms/step - loss: 0.5933 - accuracy: 0.7273 - val_loss: 0.6550 - val_accuracy: 0.6481\n",
      "Epoch 76/100\n",
      "14/14 [==============================] - 0s 5ms/step - loss: 0.6133 - accuracy: 0.7016 - val_loss: 0.6588 - val_accuracy: 0.6111\n",
      "Epoch 77/100\n",
      "14/14 [==============================] - 0s 4ms/step - loss: 0.5968 - accuracy: 0.7016 - val_loss: 0.6547 - val_accuracy: 0.6389\n",
      "Epoch 78/100\n",
      "14/14 [==============================] - 0s 5ms/step - loss: 0.5883 - accuracy: 0.7133 - val_loss: 0.6556 - val_accuracy: 0.6111\n",
      "Epoch 79/100\n",
      "14/14 [==============================] - 0s 4ms/step - loss: 0.6071 - accuracy: 0.6993 - val_loss: 0.6588 - val_accuracy: 0.6389\n",
      "Epoch 80/100\n",
      "14/14 [==============================] - 0s 5ms/step - loss: 0.5924 - accuracy: 0.7086 - val_loss: 0.6523 - val_accuracy: 0.6481\n",
      "Epoch 81/100\n",
      "14/14 [==============================] - 0s 5ms/step - loss: 0.5964 - accuracy: 0.7133 - val_loss: 0.6529 - val_accuracy: 0.6481\n",
      "Epoch 82/100\n",
      "14/14 [==============================] - 0s 5ms/step - loss: 0.5970 - accuracy: 0.6923 - val_loss: 0.6528 - val_accuracy: 0.6481\n",
      "Epoch 83/100\n",
      "14/14 [==============================] - 0s 4ms/step - loss: 0.6003 - accuracy: 0.7110 - val_loss: 0.6546 - val_accuracy: 0.6111\n",
      "Epoch 84/100\n",
      "14/14 [==============================] - 0s 4ms/step - loss: 0.5750 - accuracy: 0.7296 - val_loss: 0.6540 - val_accuracy: 0.6111\n",
      "Epoch 85/100\n",
      "14/14 [==============================] - 0s 4ms/step - loss: 0.5775 - accuracy: 0.7319 - val_loss: 0.6572 - val_accuracy: 0.6111\n",
      "Epoch 86/100\n",
      "14/14 [==============================] - 0s 4ms/step - loss: 0.5958 - accuracy: 0.7133 - val_loss: 0.6528 - val_accuracy: 0.6111\n",
      "Epoch 87/100\n",
      "14/14 [==============================] - 0s 5ms/step - loss: 0.6005 - accuracy: 0.7063 - val_loss: 0.6574 - val_accuracy: 0.6389\n",
      "Epoch 88/100\n",
      "14/14 [==============================] - 0s 4ms/step - loss: 0.6045 - accuracy: 0.6923 - val_loss: 0.6555 - val_accuracy: 0.6111\n",
      "Epoch 89/100\n",
      "14/14 [==============================] - 0s 5ms/step - loss: 0.5955 - accuracy: 0.7063 - val_loss: 0.6527 - val_accuracy: 0.6389\n",
      "Epoch 90/100\n",
      "14/14 [==============================] - 0s 5ms/step - loss: 0.5930 - accuracy: 0.7016 - val_loss: 0.6549 - val_accuracy: 0.6111\n",
      "Epoch 91/100\n",
      "14/14 [==============================] - 0s 4ms/step - loss: 0.5902 - accuracy: 0.7063 - val_loss: 0.6529 - val_accuracy: 0.6389\n",
      "Epoch 92/100\n",
      "14/14 [==============================] - 0s 4ms/step - loss: 0.5948 - accuracy: 0.7040 - val_loss: 0.6545 - val_accuracy: 0.6389\n",
      "Epoch 93/100\n",
      "14/14 [==============================] - 0s 5ms/step - loss: 0.6112 - accuracy: 0.6970 - val_loss: 0.6517 - val_accuracy: 0.6481\n",
      "Epoch 94/100\n",
      "14/14 [==============================] - 0s 4ms/step - loss: 0.5767 - accuracy: 0.7203 - val_loss: 0.6543 - val_accuracy: 0.6574\n",
      "Epoch 95/100\n",
      "14/14 [==============================] - 0s 5ms/step - loss: 0.5813 - accuracy: 0.7110 - val_loss: 0.6519 - val_accuracy: 0.6481\n",
      "Epoch 96/100\n",
      "14/14 [==============================] - 0s 4ms/step - loss: 0.5820 - accuracy: 0.7133 - val_loss: 0.6518 - val_accuracy: 0.6481\n",
      "Epoch 97/100\n",
      "14/14 [==============================] - 0s 4ms/step - loss: 0.5977 - accuracy: 0.7110 - val_loss: 0.6511 - val_accuracy: 0.6296\n",
      "Epoch 98/100\n",
      "14/14 [==============================] - 0s 4ms/step - loss: 0.5733 - accuracy: 0.7249 - val_loss: 0.6535 - val_accuracy: 0.6111\n",
      "Epoch 99/100\n",
      "14/14 [==============================] - 0s 4ms/step - loss: 0.5899 - accuracy: 0.7179 - val_loss: 0.6542 - val_accuracy: 0.6574\n",
      "Epoch 100/100\n",
      "14/14 [==============================] - 0s 5ms/step - loss: 0.6032 - accuracy: 0.6946 - val_loss: 0.6543 - val_accuracy: 0.6481\n"
     ]
    }
   ],
   "source": [
    "history = model.fit(x_train, y_train, validation_split=0.2, epochs=100,\n",
    "                    batch_size=32)"
   ]
  },
  {
   "cell_type": "markdown",
   "metadata": {
    "colab_type": "text",
    "id": "sdzis8Q8zOyj"
   },
   "source": [
    "# Evaluate the model and print its loss and accuracy score"
   ]
  },
  {
   "cell_type": "code",
   "execution_count": 31,
   "metadata": {
    "colab": {
     "base_uri": "https://localhost:8080/",
     "height": 50
    },
    "colab_type": "code",
    "executionInfo": {
     "elapsed": 15141,
     "status": "ok",
     "timestamp": 1571065654734,
     "user": {
      "displayName": "ai school",
      "photoUrl": "",
      "userId": "08125262134229048618"
     },
     "user_tz": -120
    },
    "id": "-p8g_vtnzOyk",
    "outputId": "2c03448c-edbb-40ec-b79c-755d18f4b453"
   },
   "outputs": [
    {
     "name": "stdout",
     "output_type": "stream",
     "text": [
      "8/8 [==============================] - 0s 1ms/step - loss: 0.6172 - accuracy: 0.6667\n",
      "[0.6171624660491943, 0.6666666865348816]\n"
     ]
    }
   ],
   "source": [
    "score = model.evaluate(x_test, y_test)\n",
    "print(score)"
   ]
  },
  {
   "cell_type": "code",
   "execution_count": 32,
   "metadata": {},
   "outputs": [
    {
     "data": {
      "text/plain": [
       "array([[0.27292266],\n",
       "       [0.2923746 ],\n",
       "       [0.27247566],\n",
       "       [0.3502508 ],\n",
       "       [0.30952606],\n",
       "       [0.30425563],\n",
       "       [0.3057189 ],\n",
       "       [0.27287906],\n",
       "       [0.37205482],\n",
       "       [0.3307403 ],\n",
       "       [0.26877233],\n",
       "       [0.3598322 ],\n",
       "       [0.2886734 ],\n",
       "       [0.26963106],\n",
       "       [0.32960346],\n",
       "       [0.3170939 ],\n",
       "       [0.31189394],\n",
       "       [0.27197856],\n",
       "       [0.29744658],\n",
       "       [0.28170305],\n",
       "       [0.4295704 ],\n",
       "       [0.27239123],\n",
       "       [0.27855623],\n",
       "       [0.27218515],\n",
       "       [0.3763519 ],\n",
       "       [0.38991863],\n",
       "       [0.55054486],\n",
       "       [0.27918956],\n",
       "       [0.36331016],\n",
       "       [0.44289297],\n",
       "       [0.47165275],\n",
       "       [0.3904914 ],\n",
       "       [0.27149335],\n",
       "       [0.32522205],\n",
       "       [0.28343585],\n",
       "       [0.2746733 ],\n",
       "       [0.37549132],\n",
       "       [0.46658984],\n",
       "       [0.3044133 ],\n",
       "       [0.47086507],\n",
       "       [0.3370826 ],\n",
       "       [0.27198175],\n",
       "       [0.32581264],\n",
       "       [0.5145087 ],\n",
       "       [0.29363263],\n",
       "       [0.40592003],\n",
       "       [0.38333654],\n",
       "       [0.34954682],\n",
       "       [0.27053994],\n",
       "       [0.30031633],\n",
       "       [0.39408505],\n",
       "       [0.25866273],\n",
       "       [0.40804145],\n",
       "       [0.31273842],\n",
       "       [0.2724315 ],\n",
       "       [0.51786697],\n",
       "       [0.31762642],\n",
       "       [0.31385562],\n",
       "       [0.27904743],\n",
       "       [0.29367822],\n",
       "       [0.34093586],\n",
       "       [0.36435825],\n",
       "       [0.30520853],\n",
       "       [0.3639195 ],\n",
       "       [0.26843977],\n",
       "       [0.3099941 ],\n",
       "       [0.2721643 ],\n",
       "       [0.272747  ],\n",
       "       [0.36318514],\n",
       "       [0.36798906],\n",
       "       [0.31458578],\n",
       "       [0.27243993],\n",
       "       [0.35175464],\n",
       "       [0.29076293],\n",
       "       [0.689029  ],\n",
       "       [0.30223364],\n",
       "       [0.27765852],\n",
       "       [0.44263697],\n",
       "       [0.32301065],\n",
       "       [0.2905441 ],\n",
       "       [0.46882182],\n",
       "       [0.2739909 ],\n",
       "       [0.2762537 ],\n",
       "       [0.2689298 ],\n",
       "       [0.33968136],\n",
       "       [0.27238795],\n",
       "       [0.40139595],\n",
       "       [0.2722251 ],\n",
       "       [0.3050062 ],\n",
       "       [0.35582957],\n",
       "       [0.31511933],\n",
       "       [0.30611822],\n",
       "       [0.32266697],\n",
       "       [0.3842229 ],\n",
       "       [0.27765617],\n",
       "       [0.29983473],\n",
       "       [0.33510402],\n",
       "       [0.37914592],\n",
       "       [0.2713071 ],\n",
       "       [0.36890325],\n",
       "       [0.32371917],\n",
       "       [0.3453621 ],\n",
       "       [0.36750323],\n",
       "       [0.33042616],\n",
       "       [0.60588855],\n",
       "       [0.2721831 ],\n",
       "       [0.2702955 ],\n",
       "       [0.2722786 ],\n",
       "       [0.66695535],\n",
       "       [0.28509218],\n",
       "       [0.33487424],\n",
       "       [0.2698969 ],\n",
       "       [0.272626  ],\n",
       "       [0.3482606 ],\n",
       "       [0.3406848 ],\n",
       "       [0.27281836],\n",
       "       [0.29982778],\n",
       "       [0.27310967],\n",
       "       [0.3124177 ],\n",
       "       [0.2792663 ],\n",
       "       [0.32918614],\n",
       "       [0.31923944],\n",
       "       [0.30431598],\n",
       "       [0.31007215],\n",
       "       [0.2716973 ],\n",
       "       [0.27172828],\n",
       "       [0.27602592],\n",
       "       [0.28856605],\n",
       "       [0.27670828],\n",
       "       [0.34082317],\n",
       "       [0.28432703],\n",
       "       [0.40726253],\n",
       "       [0.28846422],\n",
       "       [0.5293558 ],\n",
       "       [0.29301724],\n",
       "       [0.27254033],\n",
       "       [0.3332257 ],\n",
       "       [0.7098265 ],\n",
       "       [0.3509065 ],\n",
       "       [0.2736881 ],\n",
       "       [0.29274395],\n",
       "       [0.27083948],\n",
       "       [0.41776094],\n",
       "       [0.4633001 ],\n",
       "       [0.30367488],\n",
       "       [0.5415394 ],\n",
       "       [0.39873108],\n",
       "       [0.29804045],\n",
       "       [0.58724415],\n",
       "       [0.27339175],\n",
       "       [0.29931816],\n",
       "       [0.3043428 ],\n",
       "       [0.27067125],\n",
       "       [0.27152652],\n",
       "       [0.5187585 ],\n",
       "       [0.30713153],\n",
       "       [0.5308551 ],\n",
       "       [0.5839295 ],\n",
       "       [0.2919974 ],\n",
       "       [0.2708511 ],\n",
       "       [0.2952573 ],\n",
       "       [0.2805578 ],\n",
       "       [0.27281153],\n",
       "       [0.6201633 ],\n",
       "       [0.3766528 ],\n",
       "       [0.27523017],\n",
       "       [0.26799566],\n",
       "       [0.30383942],\n",
       "       [0.3709728 ],\n",
       "       [0.45847756],\n",
       "       [0.40673897],\n",
       "       [0.44584   ],\n",
       "       [0.27348164],\n",
       "       [0.2714858 ],\n",
       "       [0.28722456],\n",
       "       [0.27299345],\n",
       "       [0.27210867],\n",
       "       [0.3405474 ],\n",
       "       [0.2812942 ],\n",
       "       [0.6624961 ],\n",
       "       [0.34533614],\n",
       "       [0.27349505],\n",
       "       [0.3753838 ],\n",
       "       [0.39302427],\n",
       "       [0.27298042],\n",
       "       [0.442647  ],\n",
       "       [0.4685813 ],\n",
       "       [0.28126732],\n",
       "       [0.33490697],\n",
       "       [0.29760876],\n",
       "       [0.26897743],\n",
       "       [0.5192709 ],\n",
       "       [0.31755212],\n",
       "       [0.27399305],\n",
       "       [0.2703993 ],\n",
       "       [0.29988396],\n",
       "       [0.2977964 ],\n",
       "       [0.40796608],\n",
       "       [0.3512476 ],\n",
       "       [0.28731814],\n",
       "       [0.29295355],\n",
       "       [0.36503765],\n",
       "       [0.2908683 ],\n",
       "       [0.3689405 ],\n",
       "       [0.38837102],\n",
       "       [0.35975954],\n",
       "       [0.4344838 ],\n",
       "       [0.28014764],\n",
       "       [0.31469846],\n",
       "       [0.35060212],\n",
       "       [0.44398516],\n",
       "       [0.34084138],\n",
       "       [0.272166  ],\n",
       "       [0.29984024],\n",
       "       [0.47125486],\n",
       "       [0.69357884],\n",
       "       [0.3195293 ],\n",
       "       [0.30503073],\n",
       "       [0.31897986],\n",
       "       [0.27114147],\n",
       "       [0.27054927],\n",
       "       [0.33158225],\n",
       "       [0.33999485],\n",
       "       [0.27230224],\n",
       "       [0.33689746],\n",
       "       [0.26962876],\n",
       "       [0.27331075],\n",
       "       [0.6437778 ],\n",
       "       [0.29003403],\n",
       "       [0.27105775],\n",
       "       [0.3993099 ]], dtype=float32)"
      ]
     },
     "execution_count": 32,
     "metadata": {},
     "output_type": "execute_result"
    }
   ],
   "source": [
    "y_pred_prob=model.predict(x_test)\n",
    "y_pred_prob"
   ]
  },
  {
   "cell_type": "code",
   "execution_count": 33,
   "metadata": {},
   "outputs": [
    {
     "name": "stdout",
     "output_type": "stream",
     "text": [
      "              precision    recall  f1-score   support\n",
      "\n",
      "         0.0       0.71      0.87      0.78       150\n",
      "         1.0       0.59      0.36      0.45        81\n",
      "\n",
      "    accuracy                           0.69       231\n",
      "   macro avg       0.65      0.61      0.61       231\n",
      "weighted avg       0.67      0.69      0.66       231\n",
      "\n"
     ]
    },
    {
     "data": {
      "image/png": "[encoded data removed]",
      "text/plain": [
       "<Figure size 432x288 with 2 Axes>"
      ]
     },
     "metadata": {
      "needs_background": "light"
     },
     "output_type": "display_data"
    }
   ],
   "source": [
    "y_pred=np.where(y_pred_prob > .38, 1,0).flatten()\n",
    "\n",
    "from sklearn.metrics import confusion_matrix\n",
    "from sklearn.metrics import classification_report\n",
    "import seaborn as sn\n",
    "import pandas as pd\n",
    "\n",
    "print(classification_report(y_test, y_pred))\n",
    "\n",
    "confusion_matrix = pd.crosstab( y_test,y_pred,rownames=['Actual'], colnames=['Predicted'])\n",
    "\n",
    "sn.heatmap(confusion_matrix, annot=True,fmt='g',cmap=\"Reds\")\n",
    "plt.show()"
   ]
  },
  {
   "cell_type": "markdown",
   "metadata": {
    "colab_type": "text",
    "id": "Pq1dUnbTzOyn"
   },
   "source": [
    "# Plot model training history"
   ]
  },
  {
   "cell_type": "code",
   "execution_count": 34,
   "metadata": {},
   "outputs": [
    {
     "data": {
      "text/plain": [
       "{'loss': [8.884235382080078,\n",
       "  7.4796528816223145,\n",
       "  5.499293327331543,\n",
       "  5.183652400970459,\n",
       "  4.433985710144043,\n",
       "  3.7230324745178223,\n",
       "  3.3192176818847656,\n",
       "  2.5043742656707764,\n",
       "  2.35306453704834,\n",
       "  2.306532859802246,\n",
       "  1.945353388786316,\n",
       "  1.6519211530685425,\n",
       "  1.4625715017318726,\n",
       "  1.2041720151901245,\n",
       "  1.384574294090271,\n",
       "  1.1231614351272583,\n",
       "  1.0407488346099854,\n",
       "  1.1811448335647583,\n",
       "  0.9599128365516663,\n",
       "  0.8308939933776855,\n",
       "  0.86274254322052,\n",
       "  0.7755932807922363,\n",
       "  0.7821297645568848,\n",
       "  0.7280650734901428,\n",
       "  0.702798068523407,\n",
       "  0.6578463315963745,\n",
       "  0.6894501447677612,\n",
       "  0.671970009803772,\n",
       "  0.6886472105979919,\n",
       "  0.6824979782104492,\n",
       "  0.665604293346405,\n",
       "  0.653985857963562,\n",
       "  0.6634020209312439,\n",
       "  0.6384711265563965,\n",
       "  0.670935332775116,\n",
       "  0.6482862830162048,\n",
       "  0.6509605050086975,\n",
       "  0.6468898057937622,\n",
       "  0.6420884132385254,\n",
       "  0.6665753126144409,\n",
       "  0.6554886102676392,\n",
       "  0.6336556077003479,\n",
       "  0.6328130960464478,\n",
       "  0.6546655893325806,\n",
       "  0.6458228826522827,\n",
       "  0.6200588345527649,\n",
       "  0.6277731657028198,\n",
       "  0.6203984618186951,\n",
       "  0.6318909525871277,\n",
       "  0.6144355535507202,\n",
       "  0.6249158978462219,\n",
       "  0.6177078485488892,\n",
       "  0.6218219995498657,\n",
       "  0.6309248208999634,\n",
       "  0.6184049248695374,\n",
       "  0.6263094544410706,\n",
       "  0.625897228717804,\n",
       "  0.6241227388381958,\n",
       "  0.5941223502159119,\n",
       "  0.6335151195526123,\n",
       "  0.6120745539665222,\n",
       "  0.6050623655319214,\n",
       "  0.5969108939170837,\n",
       "  0.6155948042869568,\n",
       "  0.5981709957122803,\n",
       "  0.6081520915031433,\n",
       "  0.6114703416824341,\n",
       "  0.6039621233940125,\n",
       "  0.6196883916854858,\n",
       "  0.6050289869308472,\n",
       "  0.5984445214271545,\n",
       "  0.6094452142715454,\n",
       "  0.5979940295219421,\n",
       "  0.6101670861244202,\n",
       "  0.5932605266571045,\n",
       "  0.6133328676223755,\n",
       "  0.59684818983078,\n",
       "  0.5882729291915894,\n",
       "  0.6071116924285889,\n",
       "  0.5924086570739746,\n",
       "  0.5963676571846008,\n",
       "  0.5969723463058472,\n",
       "  0.6003262996673584,\n",
       "  0.5750324726104736,\n",
       "  0.5775420069694519,\n",
       "  0.5958477258682251,\n",
       "  0.6004571318626404,\n",
       "  0.604465663433075,\n",
       "  0.5955193638801575,\n",
       "  0.5929795503616333,\n",
       "  0.5902260541915894,\n",
       "  0.5948271751403809,\n",
       "  0.6111884713172913,\n",
       "  0.5766734480857849,\n",
       "  0.5813406109809875,\n",
       "  0.5819971561431885,\n",
       "  0.5976797938346863,\n",
       "  0.573254406452179,\n",
       "  0.5898830890655518,\n",
       "  0.6032359004020691],\n",
       " 'accuracy': [0.4871794879436493,\n",
       "  0.4592074453830719,\n",
       "  0.5431235432624817,\n",
       "  0.5431235432624817,\n",
       "  0.5104895234107971,\n",
       "  0.5361305475234985,\n",
       "  0.5198135375976562,\n",
       "  0.557109534740448,\n",
       "  0.5291375517845154,\n",
       "  0.5454545617103577,\n",
       "  0.5477855205535889,\n",
       "  0.5501165390014648,\n",
       "  0.5920745730400085,\n",
       "  0.5757575631141663,\n",
       "  0.5664335489273071,\n",
       "  0.6340326070785522,\n",
       "  0.5920745730400085,\n",
       "  0.6363636255264282,\n",
       "  0.5850815773010254,\n",
       "  0.6037296056747437,\n",
       "  0.5990676283836365,\n",
       "  0.61771559715271,\n",
       "  0.61771559715271,\n",
       "  0.6293706297874451,\n",
       "  0.6433566212654114,\n",
       "  0.6736596822738647,\n",
       "  0.6643356680870056,\n",
       "  0.6759907007217407,\n",
       "  0.6433566212654114,\n",
       "  0.6620046496391296,\n",
       "  0.6689976453781128,\n",
       "  0.6689976453781128,\n",
       "  0.6783216595649719,\n",
       "  0.6993007063865662,\n",
       "  0.6573426723480225,\n",
       "  0.6643356680870056,\n",
       "  0.6713286638259888,\n",
       "  0.6643356680870056,\n",
       "  0.6759907007217407,\n",
       "  0.6526806354522705,\n",
       "  0.6689976453781128,\n",
       "  0.692307710647583,\n",
       "  0.689976692199707,\n",
       "  0.6759907007217407,\n",
       "  0.6620046496391296,\n",
       "  0.6969696879386902,\n",
       "  0.6853147149085999,\n",
       "  0.6853147149085999,\n",
       "  0.6620046496391296,\n",
       "  0.692307710647583,\n",
       "  0.6806526780128479,\n",
       "  0.7016317248344421,\n",
       "  0.6853147149085999,\n",
       "  0.6689976453781128,\n",
       "  0.6853147149085999,\n",
       "  0.6853147149085999,\n",
       "  0.6666666865348816,\n",
       "  0.6853147149085999,\n",
       "  0.7016317248344421,\n",
       "  0.6689976453781128,\n",
       "  0.6946386694908142,\n",
       "  0.7039626836776733,\n",
       "  0.6969696879386902,\n",
       "  0.6829836964607239,\n",
       "  0.7016317248344421,\n",
       "  0.7062937021255493,\n",
       "  0.7016317248344421,\n",
       "  0.7086247205734253,\n",
       "  0.6759907007217407,\n",
       "  0.7062937021255493,\n",
       "  0.7039626836776733,\n",
       "  0.6946386694908142,\n",
       "  0.7132866978645325,\n",
       "  0.6946386694908142,\n",
       "  0.7272727489471436,\n",
       "  0.7016317248344421,\n",
       "  0.7016317248344421,\n",
       "  0.7132866978645325,\n",
       "  0.6993007063865662,\n",
       "  0.7086247205734253,\n",
       "  0.7132866978645325,\n",
       "  0.692307710647583,\n",
       "  0.7109557390213013,\n",
       "  0.7296037077903748,\n",
       "  0.7319347262382507,\n",
       "  0.7132866978645325,\n",
       "  0.7062937021255493,\n",
       "  0.692307710647583,\n",
       "  0.7062937021255493,\n",
       "  0.7016317248344421,\n",
       "  0.7062937021255493,\n",
       "  0.7039626836776733,\n",
       "  0.6969696879386902,\n",
       "  0.7202796936035156,\n",
       "  0.7109557390213013,\n",
       "  0.7132866978645325,\n",
       "  0.7109557390213013,\n",
       "  0.7249417304992676,\n",
       "  0.7179487347602844,\n",
       "  0.6946386694908142],\n",
       " 'val_loss': [5.127161026000977,\n",
       "  3.6288909912109375,\n",
       "  2.4834656715393066,\n",
       "  2.165598154067993,\n",
       "  1.826841950416565,\n",
       "  1.7328499555587769,\n",
       "  1.4653946161270142,\n",
       "  1.1199610233306885,\n",
       "  1.2105203866958618,\n",
       "  1.4444509744644165,\n",
       "  1.1506452560424805,\n",
       "  1.131360411643982,\n",
       "  1.1057251691818237,\n",
       "  0.9801560640335083,\n",
       "  1.0620592832565308,\n",
       "  1.0214688777923584,\n",
       "  0.8386433720588684,\n",
       "  0.8626664280891418,\n",
       "  0.9072668552398682,\n",
       "  0.8104625344276428,\n",
       "  0.7522612810134888,\n",
       "  0.7871390581130981,\n",
       "  0.7338464260101318,\n",
       "  0.7086107730865479,\n",
       "  0.7468721866607666,\n",
       "  0.7076442241668701,\n",
       "  0.7316898703575134,\n",
       "  0.7358284592628479,\n",
       "  0.6881546974182129,\n",
       "  0.6701979041099548,\n",
       "  0.6739962100982666,\n",
       "  0.6948964595794678,\n",
       "  0.6817637085914612,\n",
       "  0.6752195954322815,\n",
       "  0.6708675622940063,\n",
       "  0.6795029640197754,\n",
       "  0.685916543006897,\n",
       "  0.686670184135437,\n",
       "  0.6663981676101685,\n",
       "  0.6642374396324158,\n",
       "  0.6684088110923767,\n",
       "  0.663310170173645,\n",
       "  0.671541154384613,\n",
       "  0.6698883771896362,\n",
       "  0.6653825044631958,\n",
       "  0.6771665215492249,\n",
       "  0.6668974757194519,\n",
       "  0.6774556040763855,\n",
       "  0.6620780229568481,\n",
       "  0.6975966095924377,\n",
       "  0.6644843816757202,\n",
       "  0.6696824431419373,\n",
       "  0.6615767478942871,\n",
       "  0.6603615283966064,\n",
       "  0.6620135307312012,\n",
       "  0.6597340703010559,\n",
       "  0.6586177349090576,\n",
       "  0.6593489646911621,\n",
       "  0.6577621102333069,\n",
       "  0.655862033367157,\n",
       "  0.6551900506019592,\n",
       "  0.6539714336395264,\n",
       "  0.6527337431907654,\n",
       "  0.6540833115577698,\n",
       "  0.6547394394874573,\n",
       "  0.6596119999885559,\n",
       "  0.6542151570320129,\n",
       "  0.6643115878105164,\n",
       "  0.6629278659820557,\n",
       "  0.6550395488739014,\n",
       "  0.6585217714309692,\n",
       "  0.6551026701927185,\n",
       "  0.661701500415802,\n",
       "  0.6565849184989929,\n",
       "  0.6550180912017822,\n",
       "  0.6588439345359802,\n",
       "  0.6546630263328552,\n",
       "  0.6555619835853577,\n",
       "  0.6588200926780701,\n",
       "  0.652349054813385,\n",
       "  0.6529349684715271,\n",
       "  0.6527617573738098,\n",
       "  0.6546257734298706,\n",
       "  0.6539824604988098,\n",
       "  0.6572059392929077,\n",
       "  0.652816116809845,\n",
       "  0.6573532223701477,\n",
       "  0.6555174589157104,\n",
       "  0.6527081727981567,\n",
       "  0.6548606157302856,\n",
       "  0.6529494524002075,\n",
       "  0.6545292735099792,\n",
       "  0.6516814231872559,\n",
       "  0.6543132066726685,\n",
       "  0.6519055962562561,\n",
       "  0.651827335357666,\n",
       "  0.6511239409446716,\n",
       "  0.6534799933433533,\n",
       "  0.6541835069656372,\n",
       "  0.6543312072753906],\n",
       " 'val_accuracy': [0.39814814925193787,\n",
       "  0.3888888955116272,\n",
       "  0.39814814925193787,\n",
       "  0.3888888955116272,\n",
       "  0.3888888955116272,\n",
       "  0.3888888955116272,\n",
       "  0.37962964177131653,\n",
       "  0.37962964177131653,\n",
       "  0.37962964177131653,\n",
       "  0.37962964177131653,\n",
       "  0.37962964177131653,\n",
       "  0.37962964177131653,\n",
       "  0.37962964177131653,\n",
       "  0.37962964177131653,\n",
       "  0.37962964177131653,\n",
       "  0.3888888955116272,\n",
       "  0.42592594027519226,\n",
       "  0.4166666567325592,\n",
       "  0.37037035822868347,\n",
       "  0.39814814925193787,\n",
       "  0.48148149251937866,\n",
       "  0.43518519401550293,\n",
       "  0.5092592835426331,\n",
       "  0.5370370149612427,\n",
       "  0.5,\n",
       "  0.5370370149612427,\n",
       "  0.5,\n",
       "  0.49074074625968933,\n",
       "  0.5833333134651184,\n",
       "  0.6203703880310059,\n",
       "  0.6018518805503845,\n",
       "  0.5462962985038757,\n",
       "  0.5925925970077515,\n",
       "  0.6018518805503845,\n",
       "  0.6111111044883728,\n",
       "  0.5925925970077515,\n",
       "  0.5648148059844971,\n",
       "  0.5648148059844971,\n",
       "  0.6388888955116272,\n",
       "  0.6203703880310059,\n",
       "  0.6296296119689941,\n",
       "  0.6296296119689941,\n",
       "  0.6481481194496155,\n",
       "  0.6481481194496155,\n",
       "  0.6296296119689941,\n",
       "  0.5925925970077515,\n",
       "  0.6481481194496155,\n",
       "  0.5740740895271301,\n",
       "  0.6666666865348816,\n",
       "  0.5370370149612427,\n",
       "  0.6296296119689941,\n",
       "  0.6388888955116272,\n",
       "  0.6574074029922485,\n",
       "  0.6574074029922485,\n",
       "  0.6296296119689941,\n",
       "  0.6481481194496155,\n",
       "  0.6574074029922485,\n",
       "  0.6296296119689941,\n",
       "  0.6296296119689941,\n",
       "  0.6481481194496155,\n",
       "  0.6481481194496155,\n",
       "  0.6574074029922485,\n",
       "  0.6666666865348816,\n",
       "  0.6388888955116272,\n",
       "  0.6388888955116272,\n",
       "  0.6203703880310059,\n",
       "  0.6203703880310059,\n",
       "  0.6388888955116272,\n",
       "  0.6203703880310059,\n",
       "  0.6296296119689941,\n",
       "  0.6296296119689941,\n",
       "  0.6296296119689941,\n",
       "  0.6203703880310059,\n",
       "  0.6203703880310059,\n",
       "  0.6481481194496155,\n",
       "  0.6111111044883728,\n",
       "  0.6388888955116272,\n",
       "  0.6111111044883728,\n",
       "  0.6388888955116272,\n",
       "  0.6481481194496155,\n",
       "  0.6481481194496155,\n",
       "  0.6481481194496155,\n",
       "  0.6111111044883728,\n",
       "  0.6111111044883728,\n",
       "  0.6111111044883728,\n",
       "  0.6111111044883728,\n",
       "  0.6388888955116272,\n",
       "  0.6111111044883728,\n",
       "  0.6388888955116272,\n",
       "  0.6111111044883728,\n",
       "  0.6388888955116272,\n",
       "  0.6388888955116272,\n",
       "  0.6481481194496155,\n",
       "  0.6574074029922485,\n",
       "  0.6481481194496155,\n",
       "  0.6481481194496155,\n",
       "  0.6296296119689941,\n",
       "  0.6111111044883728,\n",
       "  0.6574074029922485,\n",
       "  0.6481481194496155]}"
      ]
     },
     "execution_count": 34,
     "metadata": {},
     "output_type": "execute_result"
    }
   ],
   "source": [
    "history.history"
   ]
  },
  {
   "cell_type": "code",
   "execution_count": 35,
   "metadata": {
    "colab": {
     "base_uri": "https://localhost:8080/",
     "height": 590
    },
    "colab_type": "code",
    "executionInfo": {
     "elapsed": 15780,
     "status": "ok",
     "timestamp": 1571065655386,
     "user": {
      "displayName": "ai school",
      "photoUrl": "",
      "userId": "08125262134229048618"
     },
     "user_tz": -120
    },
    "id": "9gdoKXJbzOyo",
    "outputId": "5187fae5-aa68-43c9-f7d6-a9c2c1bb2ca2"
   },
   "outputs": [
    {
     "name": "stdout",
     "output_type": "stream",
     "text": [
      "dict_keys(['loss', 'accuracy', 'val_loss', 'val_accuracy'])\n"
     ]
    },
    {
     "data": {
      "image/png": "[encoded data removed]",
      "text/plain": [
       "<Figure size 432x288 with 1 Axes>"
      ]
     },
     "metadata": {
      "needs_background": "light"
     },
     "output_type": "display_data"
    },
    {
     "data": {
      "image/png": "[encoded data removed]",
      "text/plain": [
       "<Figure size 432x288 with 1 Axes>"
      ]
     },
     "metadata": {
      "needs_background": "light"
     },
     "output_type": "display_data"
    }
   ],
   "source": [
    "import matplotlib.pyplot as plt\n",
    "\n",
    "%matplotlib inline\n",
    "\n",
    "# list all data in history\n",
    "print(history.history.keys())\n",
    "# summarize history for accuracy\n",
    "plt.plot(history.history['accuracy'])\n",
    "plt.plot(history.history['val_accuracy'])\n",
    "plt.title('model accuracy')\n",
    "plt.ylabel('accuracy')\n",
    "plt.xlabel('epoch')\n",
    "plt.legend(['train', 'val'], loc='upper left')\n",
    "plt.show()\n",
    "# summarize history for loss\n",
    "plt.plot(history.history['loss'])\n",
    "plt.plot(history.history['val_loss'])\n",
    "plt.title('model loss')\n",
    "plt.ylabel('loss')\n",
    "plt.xlabel('epoch')\n",
    "plt.legend(['train', 'val'], loc='upper left')\n",
    "plt.show()"
   ]
  }
 ],
 "metadata": {
  "colab": {
   "name": "Keras_MLP.ipynb",
   "provenance": [],
   "toc_visible": true
  },
  "kernelspec": {
   "display_name": "Python 3",
   "language": "python",
   "name": "python3"
  },
  "language_info": {
   "codemirror_mode": {
    "name": "ipython",
    "version": 3
   },
   "file_extension": ".py",
   "mimetype": "text/x-python",
   "name": "python",
   "nbconvert_exporter": "python",
   "pygments_lexer": "ipython3",
   "version": "3.9.7"
  },
  "vscode": {
   "interpreter": {
    "hash": "916dbcbb3f70747c44a77c7bcd40155683ae19c65e1c03b4aa3499c5328201f1"
   }
  }
 },
 "nbformat": 4,
 "nbformat_minor": 1
}
