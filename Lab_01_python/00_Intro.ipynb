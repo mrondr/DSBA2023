{
 "cells": [
  {
   "cell_type": "markdown",
   "id": "62ef1ed4",
   "metadata": {},
   "source": [
    "Markdown cell\n",
    "\n",
    "# H1\n",
    "#### ML Labs\n",
    "\n",
    "regular text\n",
    "\n",
    " - Andrea Mor: andrea.mor@polimi.it\n",
    " - l2\n",
    " \n",
    " 1. first\n",
    " 2. second"
   ]
  },
  {
   "cell_type": "code",
   "execution_count": 1,
   "id": "33267735",
   "metadata": {},
   "outputs": [
    {
     "name": "stdout",
     "output_type": "stream",
     "text": [
      "2\n",
      "2\n"
     ]
    }
   ],
   "source": [
    "# Code cell\n",
    "\n",
    "a = 2\n",
    "print(a)\n",
    "print(1+1)"
   ]
  },
  {
   "cell_type": "markdown",
   "id": "eb57ca6c",
   "metadata": {},
   "source": [
    "https://app.wooclap.com/events/IBYAZJ"
   ]
  },
  {
   "cell_type": "markdown",
   "id": "e2715eaa",
   "metadata": {},
   "source": [
    "Markdown and LaTeX: $\\sum_{x=1}^{n}x^2$"
   ]
  },
  {
   "cell_type": "code",
   "execution_count": null,
   "id": "dbaa0825",
   "metadata": {},
   "outputs": [],
   "source": []
  },
  {
   "cell_type": "code",
   "execution_count": null,
   "id": "8cee13cf",
   "metadata": {},
   "outputs": [],
   "source": []
  },
  {
   "cell_type": "code",
   "execution_count": null,
   "id": "5a80b683",
   "metadata": {},
   "outputs": [],
   "source": []
  },
  {
   "cell_type": "code",
   "execution_count": null,
   "id": "72dfdb8a",
   "metadata": {},
   "outputs": [],
   "source": []
  },
  {
   "cell_type": "code",
   "execution_count": null,
   "id": "eb36fea5",
   "metadata": {},
   "outputs": [],
   "source": []
  },
  {
   "cell_type": "code",
   "execution_count": null,
   "id": "c442fa96",
   "metadata": {},
   "outputs": [],
   "source": []
  },
  {
   "cell_type": "code",
   "execution_count": null,
   "id": "024704cb",
   "metadata": {},
   "outputs": [],
   "source": []
  }
 ],
 "metadata": {
  "kernelspec": {
   "display_name": "Python 3",
   "language": "python",
   "name": "python3"
  },
  "language_info": {
   "codemirror_mode": {
    "name": "ipython",
    "version": 3
   },
   "file_extension": ".py",
   "mimetype": "text/x-python",
   "name": "python",
   "nbconvert_exporter": "python",
   "pygments_lexer": "ipython3",
   "version": "3.9.7"
  }
 },
 "nbformat": 4,
 "nbformat_minor": 5
}
